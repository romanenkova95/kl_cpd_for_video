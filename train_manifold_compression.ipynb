{
 "cells": [
  {
   "cell_type": "code",
   "execution_count": 2,
   "metadata": {},
   "outputs": [
    {
     "name": "stdout",
     "output_type": "stream",
     "text": [
      "The autoreload extension is already loaded. To reload it, use:\n",
      "  %reload_ext autoreload\n"
     ]
    }
   ],
   "source": [
    "from utils import datasets, kl_cpd, models, metrics\n",
    "%load_ext autoreload\n",
    "%autoreload 2\n",
    "\n",
    "import warnings\n",
    "warnings.filterwarnings(\"ignore\")\n",
    "\n",
    "import pytorch_lightning as pl\n",
    "from pytorch_lightning.loggers import TensorBoardLogger\n",
    "from pytorch_lightning.callbacks.early_stopping import EarlyStopping\n",
    "import torch\n",
    "from torchvision import transforms\n",
    "\n",
    "import numpy as np\n",
    "import time\n",
    "from sklearn import manifold\n",
    "import pickle\n",
    "import _pickle as cPickle\n",
    "\n",
    "from io import BytesIO\n",
    "import matplotlib.pyplot as plt\n",
    "%matplotlib inline"
   ]
  },
  {
   "cell_type": "code",
   "execution_count": 2,
   "metadata": {},
   "outputs": [
    {
     "name": "stdout",
     "output_type": "stream",
     "text": [
      "Equal sampling is impossible, do random sampling.\n"
     ]
    }
   ],
   "source": [
    "experiments_name = 'explosion'\n",
    "train_dataset, test_dataset = datasets.CPDDatasets(experiments_name=experiments_name).get_dataset_()\n",
    "data_train = []\n",
    "y_train = []\n",
    "for (x, y) in train_dataset:\n",
    "    data_train.append(x)\n",
    "    y_train.append(y)\n",
    "data_train_s = torch.stack(data_train)\n",
    "y_train = np.stack(y_train)\n",
    "y_train = y_train.reshape(-1)\n",
    "data_train = torch.transpose(data_train_s, 1, 2)\n",
    "data_train = data_train.reshape(data_train.shape[0] * data_train.shape[1], -1)\n",
    "assert data_train.shape[0] == y_train.shape[0]"
   ]
  },
  {
   "cell_type": "code",
   "execution_count": 3,
   "metadata": {},
   "outputs": [
    {
     "data": {
      "text/plain": [
       "torch.Size([3, 16, 256, 256])"
      ]
     },
     "execution_count": 3,
     "metadata": {},
     "output_type": "execute_result"
    }
   ],
   "source": [
    "x.shape"
   ]
  },
  {
   "cell_type": "code",
   "execution_count": 4,
   "metadata": {},
   "outputs": [],
   "source": [
    "n_comps = [2]\n",
    "methods = [manifold.Isomap(), manifold.SpectralEmbedding()]\n",
    "names = [\"ISOMAP\", \"SpectralEmbedding\"]\n",
    "compressors = {}\n",
    "for n_components in n_comps:\n",
    "    for i, m in enumerate(methods):\n",
    "        embedding = m\n",
    "        embedding.n_components = n_components\n",
    "        compressors[names[i]] = embedding.fit(data_train)"
   ]
  },
  {
   "cell_type": "code",
   "execution_count": null,
   "metadata": {},
   "outputs": [],
   "source": [
    "\n",
    "# save the classifier\n",
    "with open('my_dumped_classifier.pkl', 'wb') as fid:\n",
    "    cPickle.dump(gnb, fid)    \n",
    "\n",
    "# load it again\n",
    "with open('my_dumped_classifier.pkl', 'rb') as fid:\n",
    "    gnb_loaded = cPickle.load(fid)"
   ]
  }
 ],
 "metadata": {
  "kernelspec": {
   "display_name": "Python 3.7.13 ('kl-cpd-copy': conda)",
   "language": "python",
   "name": "python3"
  },
  "language_info": {
   "codemirror_mode": {
    "name": "ipython",
    "version": 3
   },
   "file_extension": ".py",
   "mimetype": "text/x-python",
   "name": "python",
   "nbconvert_exporter": "python",
   "pygments_lexer": "ipython3",
   "version": "3.7.13"
  },
  "orig_nbformat": 4,
  "vscode": {
   "interpreter": {
    "hash": "acb85811e6739084710794aad6a2b68694724b39e323389982648171fd28da5d"
   }
  }
 },
 "nbformat": 4,
 "nbformat_minor": 2
}
