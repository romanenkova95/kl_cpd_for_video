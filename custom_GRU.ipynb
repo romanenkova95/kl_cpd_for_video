{
 "cells": [
  {
   "cell_type": "code",
   "execution_count": 4,
   "id": "3286a2e9",
   "metadata": {},
   "outputs": [],
   "source": [
    "import torch\n",
    "import torch.nn as nn"
   ]
  },
  {
   "cell_type": "code",
   "execution_count": 200,
   "id": "94205d4f",
   "metadata": {},
   "outputs": [],
   "source": [
    "class custom_GRU_cell(torch.nn.Module):\n",
    "\n",
    "    def __init__(self, input_dim, hidden_dim):\n",
    "        super().__init__()\n",
    "        \n",
    "        self.input_dim = input_dim\n",
    "        self.hidden_dim = hidden_dim\n",
    "        \n",
    "        # update gate\n",
    "        self.linear_w_z = nn.Linear(self.input_dim, self.hidden_dim)\n",
    "        self.linear_u_z = nn.Linear(self.hidden_dim, self.hidden_dim)\n",
    "        self.activation_z = nn.Sigmoid()\n",
    "\n",
    "        # reset gate\n",
    "        self.linear_w_r = nn.Linear(self.input_dim, self.hidden_dim)\n",
    "        self.linear_u_r = nn.Linear(self.hidden_dim, self.hidden_dim)\n",
    "        self.activation_r = nn.Sigmoid()\n",
    "        \n",
    "        # output\n",
    "        self.linear_w_h = nn.Linear(self.input_dim, self.hidden_dim)\n",
    "        self.linear_u_h = nn.Linear(self.hidden_dim, self.hidden_dim)\n",
    "        self.activation_h = nn.Tanh()\n",
    "        \n",
    "        \n",
    "    def forward(self, x_t, h_prev):\n",
    "        try:\n",
    "            device = x_t.device\n",
    "        except:\n",
    "            device = 'cpu'\n",
    "                \n",
    "        output_z = self.activation_z(self.linear_w_z(x_t) + self.linear_u_z(h_prev))\n",
    "        output_r = self.activation_r(self.linear_w_r(x_t) + self.linear_u_r(h_prev))\n",
    "        hidden_hat = self.activation_h(self.linear_w_h(x_t) + torch.mul(output_r, self.linear_u_h(h_prev)))\n",
    "        ones = torch.ones_like(output_z).to(device)\n",
    "        hidden = torch.mul(output_z, h_prev) + torch.mul((ones - output_z), hidden_hat)\n",
    "        \n",
    "        return hidden\n",
    "    \n",
    "    \n",
    "class custom_GRU(torch.nn.Module):\n",
    "\n",
    "    def __init__(self, input_dim, hidden_dim):\n",
    "        super().__init__()\n",
    "        \n",
    "        self.input_dim = input_dim\n",
    "        self.hidden_dim = hidden_dim\n",
    "        \n",
    "        self.cell = custom_GRU_cell(input_dim, hidden_dim)\n",
    "    \n",
    "    def forward(self, inputs):\n",
    "        try:\n",
    "            device = inputs.device\n",
    "        except:\n",
    "            device = 'cpu'\n",
    "\n",
    "        outputs = []\n",
    "        out_t = torch.zeros(inputs.shape[0], 1, self.hidden_dim)\n",
    "        \n",
    "        for t, x_t in enumerate(inputs.chunk(inputs.shape[1], dim=1)):\n",
    "            out_t = self.cell(x_t, out_t)\n",
    "            outputs.append(out_t.squeeze(1).detach().cpu())\n",
    "        outputs = torch.stack(outputs, 1)\n",
    "        return outputs, out_t.squeeze(1)"
   ]
  },
  {
   "cell_type": "code",
   "execution_count": 195,
   "id": "ae22ec30",
   "metadata": {},
   "outputs": [],
   "source": [
    "x = torch.rand(3, 5, 25)"
   ]
  },
  {
   "cell_type": "code",
   "execution_count": 196,
   "id": "a5c1e0a1",
   "metadata": {},
   "outputs": [],
   "source": [
    "model = custom_GRU(25, 8)"
   ]
  }
 ],
 "metadata": {
  "kernelspec": {
   "display_name": ".tenv",
   "language": "python",
   "name": ".tenv"
  },
  "language_info": {
   "codemirror_mode": {
    "name": "ipython",
    "version": 3
   },
   "file_extension": ".py",
   "mimetype": "text/x-python",
   "name": "python",
   "nbconvert_exporter": "python",
   "pygments_lexer": "ipython3",
   "version": "3.7.9"
  }
 },
 "nbformat": 4,
 "nbformat_minor": 5
}
