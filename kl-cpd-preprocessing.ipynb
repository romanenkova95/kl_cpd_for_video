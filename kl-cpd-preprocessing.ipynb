{
 "cells": [
  {
   "cell_type": "code",
   "execution_count": 1,
   "metadata": {
    "scrolled": true
   },
   "outputs": [],
   "source": [
    "from utils import datasets, kl_cpd, models, metrics\n",
    "%load_ext autoreload\n",
    "%autoreload 2\n",
    "\n",
    "import warnings\n",
    "warnings.filterwarnings(\"ignore\")\n",
    "\n",
    "import pytorch_lightning as pl\n",
    "from pytorch_lightning.loggers import TensorBoardLogger\n",
    "from pytorch_lightning.callbacks.early_stopping import EarlyStopping\n",
    "import torch\n",
    "\n",
    "import numpy as np\n",
    "import time\n",
    "from sklearn import manifold\n",
    "import matplotlib.pyplot as plt\n",
    "%matplotlib inline"
   ]
  },
  {
   "cell_type": "code",
   "execution_count": 2,
   "metadata": {},
   "outputs": [
    {
     "name": "stdout",
     "output_type": "stream",
     "text": [
      "Equal sampling is impossible, do random sampling.\n"
     ]
    }
   ],
   "source": [
    "experiments_name = 'explosion'\n",
    "train_dataset, test_dataset = datasets.CPDDatasets(experiments_name=experiments_name).get_dataset_()"
   ]
  },
  {
   "cell_type": "code",
   "execution_count": 19,
   "metadata": {},
   "outputs": [],
   "source": [
    "args = {}\n",
    "args['wnd_dim'] = 4\n",
    "args['RNN_hid_dim'] = 16\n",
    "args['batch_size'] = 4\n",
    "args['lr'] = 1e-4\n",
    "args['weight_decay'] = 0.\n",
    "args['grad_clip'] = 10\n",
    "args['CRITIC_ITERS'] = 5\n",
    "args['weight_clip'] = .1\n",
    "args['lambda_ae'] = 0.1 #0.001\n",
    "args['lambda_real'] = 10 #0.1\n",
    "args['num_layers'] = 1\n",
    "#args['data_dim'] = 12288\n",
    "args['data_dim'] = 2400\n",
    "#args['data_dim'] = \n",
    "args['emb_dim'] = 100\n",
    "\n",
    "args['window_1'] = 4\n",
    "args['window_2'] = 4\n",
    "\n",
    "args['sqdist'] = 50"
   ]
  },
  {
   "cell_type": "code",
   "execution_count": 20,
   "metadata": {},
   "outputs": [],
   "source": [
    "seed = 112\n",
    "models.fix_seeds(seed)\n",
    "experiments_name = ('explosion')\n",
    "    \n",
    "netG = models.NetG(args)\n",
    "netD = models.NetD(args)\n",
    "netE = models.NetE(args)\n",
    "\n",
    "kl_cpd_model = models.KLCPDVideo(netG, netD, args, extractor=netE, train_dataset=train_dataset, test_dataset=test_dataset)"
   ]
  },
  {
   "cell_type": "code",
   "execution_count": 21,
   "metadata": {},
   "outputs": [
    {
     "data": {
      "text/plain": [
       "KLCPDVideo(\n",
       "  (netG): NetG(\n",
       "    (relu): ReLU()\n",
       "    (fc): Linear(in_features=2400, out_features=100, bias=True)\n",
       "    (rnn_enc_layer): GRU(100, 16, batch_first=True)\n",
       "    (rnn_dec_layer): GRU(100, 16, batch_first=True)\n",
       "    (fc_layer): Linear(in_features=16, out_features=2400, bias=True)\n",
       "  )\n",
       "  (netD): NetD(\n",
       "    (fc1): Linear(in_features=2400, out_features=100, bias=True)\n",
       "    (rnn_enc_layer): GRU(100, 16, batch_first=True)\n",
       "    (rnn_dec_layer): GRU(16, 100, batch_first=True)\n",
       "    (fc2): Linear(in_features=100, out_features=2400, bias=True)\n",
       "    (relu): ReLU()\n",
       "  )\n",
       "  (extractor): NetE(\n",
       "    (conv1): Conv2d(3, 12, kernel_size=(5, 5), stride=(2, 2), dilation=(2, 2))\n",
       "    (conv2): Conv2d(12, 6, kernel_size=(3, 3), stride=(2, 2), dilation=(2, 2))\n",
       "    (maxpool): MaxPool2d(kernel_size=3, stride=3, padding=0, dilation=1, ceil_mode=False)\n",
       "    (flatten): Flatten(start_dim=1, end_dim=-1)\n",
       "  )\n",
       ")"
      ]
     },
     "execution_count": 21,
     "metadata": {},
     "output_type": "execute_result"
    }
   ],
   "source": [
    "kl_cpd_model"
   ]
  },
  {
   "cell_type": "code",
   "execution_count": 22,
   "metadata": {},
   "outputs": [
    {
     "name": "stderr",
     "output_type": "stream",
     "text": [
      "GPU available: True, used: True\n",
      "TPU available: False, using: 0 TPU cores\n",
      "IPU available: False, using: 0 IPUs\n",
      "HPU available: False, using: 0 HPUs\n",
      "LOCAL_RANK: 0 - CUDA_VISIBLE_DEVICES: [0,1]\n",
      "\n",
      "  | Name      | Type | Params\n",
      "-----------------------------------\n",
      "0 | netG      | NetG | 292 K \n",
      "1 | netD      | NetD | 523 K \n",
      "2 | extractor | NetE | 1.6 K \n",
      "-----------------------------------\n",
      "815 K     Trainable params\n",
      "1.6 K     Non-trainable params\n",
      "817 K     Total params\n",
      "3.269     Total estimated model params size (MB)\n"
     ]
    },
    {
     "data": {
      "application/vnd.jupyter.widget-view+json": {
       "model_id": "",
       "version_major": 2,
       "version_minor": 0
      },
      "text/plain": [
       "Sanity Checking: 0it [00:00, ?it/s]"
      ]
     },
     "metadata": {},
     "output_type": "display_data"
    },
    {
     "data": {
      "application/vnd.jupyter.widget-view+json": {
       "model_id": "7490b21d750b49909b2f35c6dfe53592",
       "version_major": 2,
       "version_minor": 0
      },
      "text/plain": [
       "Training: 0it [00:00, ?it/s]"
      ]
     },
     "metadata": {},
     "output_type": "display_data"
    },
    {
     "data": {
      "application/vnd.jupyter.widget-view+json": {
       "model_id": "",
       "version_major": 2,
       "version_minor": 0
      },
      "text/plain": [
       "Validation: 0it [00:00, ?it/s]"
      ]
     },
     "metadata": {},
     "output_type": "display_data"
    },
    {
     "name": "stderr",
     "output_type": "stream",
     "text": [
      "Metric val_mmd2_real_D improved. New best score: 0.000\n"
     ]
    },
    {
     "data": {
      "application/vnd.jupyter.widget-view+json": {
       "model_id": "",
       "version_major": 2,
       "version_minor": 0
      },
      "text/plain": [
       "Validation: 0it [00:00, ?it/s]"
      ]
     },
     "metadata": {},
     "output_type": "display_data"
    },
    {
     "data": {
      "application/vnd.jupyter.widget-view+json": {
       "model_id": "",
       "version_major": 2,
       "version_minor": 0
      },
      "text/plain": [
       "Validation: 0it [00:00, ?it/s]"
      ]
     },
     "metadata": {},
     "output_type": "display_data"
    },
    {
     "data": {
      "application/vnd.jupyter.widget-view+json": {
       "model_id": "",
       "version_major": 2,
       "version_minor": 0
      },
      "text/plain": [
       "Validation: 0it [00:00, ?it/s]"
      ]
     },
     "metadata": {},
     "output_type": "display_data"
    },
    {
     "name": "stderr",
     "output_type": "stream",
     "text": [
      "Metric val_mmd2_real_D improved by 0.000 >= min_delta = 0.0. New best score: 0.000\n"
     ]
    },
    {
     "data": {
      "application/vnd.jupyter.widget-view+json": {
       "model_id": "",
       "version_major": 2,
       "version_minor": 0
      },
      "text/plain": [
       "Validation: 0it [00:00, ?it/s]"
      ]
     },
     "metadata": {},
     "output_type": "display_data"
    },
    {
     "name": "stderr",
     "output_type": "stream",
     "text": [
      "Stopping threshold reached: val_mmd2_real_D = 8.133070878102444e-06 < 1e-05. Signaling Trainer to stop.\n"
     ]
    }
   ],
   "source": [
    "logger = TensorBoardLogger(save_dir='logs/explosion', name='kl_cpd')\n",
    "early_stop_callback = EarlyStopping(monitor=\"val_mmd2_real_D\", stopping_threshold=1e-5, \n",
    "                                    verbose=True, mode=\"min\", patience=5)\n",
    "\n",
    "\n",
    "\n",
    "for param in kl_cpd_model.extractor.parameters():\n",
    "    param.requires_grad = False\n",
    "\n",
    "trainer = pl.Trainer(\n",
    "    max_epochs=100,\n",
    "    gpus='1',\n",
    "    benchmark=True,\n",
    "    check_val_every_n_epoch=1,\n",
    "    gradient_clip_val=args['grad_clip'],\n",
    "    logger=logger,\n",
    "    callbacks=early_stop_callback\n",
    ")\n",
    "\n",
    "trainer.fit(kl_cpd_model)"
   ]
  },
  {
   "cell_type": "code",
   "execution_count": 23,
   "metadata": {},
   "outputs": [],
   "source": [
    "threshold_number = 25\n",
    "threshold_list = np.linspace(-5, 5, threshold_number)\n",
    "threshold_list = 1 / (1 + np.exp(-threshold_list))\n",
    "threshold_list = [-0.001] + list(threshold_list) + [1.001]"
   ]
  },
  {
   "cell_type": "code",
   "execution_count": 24,
   "metadata": {},
   "outputs": [
    {
     "name": "stderr",
     "output_type": "stream",
     "text": [
      "100%|██████████| 27/27 [44:03<00:00, 97.92s/it] \n"
     ]
    }
   ],
   "source": [
    "_, delay_list, fp_delay_list = metrics.evaluation_pipeline(kl_cpd_model, \n",
    "                                                           kl_cpd_model.val_dataloader(),  \n",
    "                                                           threshold_list, \n",
    "                                                           device='cuda', \n",
    "                                                           model_type='klcpd',\n",
    "                                                           verbose=False)    \n",
    "\n"
   ]
  },
  {
   "cell_type": "code",
   "execution_count": 25,
   "metadata": {},
   "outputs": [],
   "source": [
    "path_to_saves = 'saves/'\n",
    "metrics.write_metrics_to_file(path_to_saves + 'result_metrics_conv2d_win4_new.txt', _, '')"
   ]
  },
  {
   "cell_type": "code",
   "execution_count": 26,
   "metadata": {},
   "outputs": [
    {
     "data": {
      "image/png": "[encoded data removed]",
      "text/plain": [
       "<Figure size 864x864 with 1 Axes>"
      ]
     },
     "metadata": {
      "needs_background": "light"
     },
     "output_type": "display_data"
    }
   ],
   "source": [
    "plt.figure(figsize=(12, 12))\n",
    "plt.plot(fp_delay_list.values(), delay_list.values(), '-o', markersize=8, label='TSCP')\n",
    "plt.xlabel('Mean Time to False Alarm', fontsize=28)\n",
    "plt.ylabel('Mean Detection Delay', fontsize=28)\n",
    "plt.xticks(fontsize=24)\n",
    "plt.yticks(fontsize=24)\n",
    "plt.legend(loc='upper left', fontsize=26);        \n",
    "plt.savefig(path_to_saves + '_conv2d_win4_new' + 'curve.png')"
   ]
  },
  {
   "cell_type": "code",
   "execution_count": 27,
   "metadata": {},
   "outputs": [
    {
     "name": "stdout",
     "output_type": "stream",
     "text": [
      "SEED: \n",
      "\n",
      "AUC: 1.270456018634749\n",
      "\n",
      "Time to FA 11.0571, delay detection 0.0476 for best-F1 threshold: 0.9933\n",
      "\n",
      "TN 123, FP 185, FN 0, TP 7 for best-F1 threshold: 0.9933\n",
      "\n",
      "Max F1 0.0704: for best-F1 threshold 0.9933\n",
      "\n",
      "COVER 0.7577: for best-F1 threshold 0.9933\n",
      "\n",
      "Max COVER 0.9806299603174603: for threshold -0.001\n",
      "\n",
      "----------------------------------------------------------------------\n",
      "\n",
      "SEED: \n",
      "\n",
      "AUC: 1.4480222770142221\n",
      "\n",
      "Time to FA 9.7048, delay detection 0.0381 for best-F1 threshold: 0.9933\n",
      "\n",
      "TN 79, FP 229, FN 0, TP 7 for best-F1 threshold: 0.9933\n",
      "\n",
      "Max F1 0.0576: for best-F1 threshold 0.9933\n",
      "\n",
      "COVER 0.6941: for best-F1 threshold 0.9933\n",
      "\n",
      "Max COVER 0.9806299603174603: for threshold -0.001\n",
      "\n",
      "----------------------------------------------------------------------\n",
      "\n",
      "SEED: \n",
      "\n",
      "AUC: 1.0357168330203343\n",
      "\n",
      "Time to FA 15.5651, delay detection 0.2286 for best-F1 threshold: 0.9933\n",
      "\n",
      "TN 290, FP 11, FN 6, TP 8 for best-F1 threshold: 0.9933\n",
      "\n",
      "Max F1 0.4848: for best-F1 threshold 0.9933\n",
      "\n",
      "COVER 0.9712: for best-F1 threshold 0.9933\n",
      "\n",
      "Max COVER 0.9806299603174603: for threshold -0.001\n",
      "\n",
      "----------------------------------------------------------------------\n",
      "\n"
     ]
    }
   ],
   "source": [
    "with open(path_to_saves + 'result_metrics_conv2d_win4_new.txt') as f:\n",
    "    lines = f.readlines()\n",
    "for l in lines:\n",
    "    print(l)"
   ]
  }
 ],
 "metadata": {
  "kernelspec": {
   "display_name": "Python 3",
   "language": "python",
   "name": "python3"
  },
  "language_info": {
   "codemirror_mode": {
    "name": "ipython",
    "version": 3
   },
   "file_extension": ".py",
   "mimetype": "text/x-python",
   "name": "python",
   "nbconvert_exporter": "python",
   "pygments_lexer": "ipython3",
   "version": "3.7.13"
  },
  "vscode": {
   "interpreter": {
    "hash": "acb85811e6739084710794aad6a2b68694724b39e323389982648171fd28da5d"
   }
  }
 },
 "nbformat": 4,
 "nbformat_minor": 1
}
